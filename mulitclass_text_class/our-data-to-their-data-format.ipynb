{
 "cells": [
  {
   "cell_type": "code",
   "execution_count": 35,
   "metadata": {},
   "outputs": [],
   "source": [
    "\n",
    "\n",
    "d = list()\n",
    "\n",
    "import csv\n",
    "import string\n",
    "import json\n",
    "\n",
    "with open('ManualAnnotation.csv') as csvfile:\n",
    "    readCSV = csv.reader(csvfile, delimiter=',')\n",
    "    header = next(readCSV,None)\n",
    "    for row in readCSV:\n",
    "        \n",
    "        curr_label = 0\n",
    "        for i in range (2, 20):\n",
    "            if int(row[i]) > 0:\n",
    "                curr_label = header[i]\n",
    "                break\n",
    "        \n",
    "        translator = str.maketrans(string.punctuation, ' ' * len(string.punctuation))\n",
    "        result = row[0].translate(translator)\n",
    " \n",
    "        curr_dict = {\"content\": result,\n",
    "                     \"annotation\":{\"notes\":\"\",\"label\":[curr_label]},\n",
    "                     \"extras\":\"null\",\n",
    "                     \"metadata\":{\n",
    "                         \"first_done_at\":1,\n",
    "                         \"last_updated_at\":1,\n",
    "                         \"sec_taken\":0,\n",
    "                         \"last_updated_by\":\"nlYZXxNBQefF2u9VX52CdONFp0C3\",\n",
    "                         \"status\":\"done\",\n",
    "                         \"evaluation\":\"NONE\"}\n",
    "                    }\n",
    " \n",
    "        \n",
    "        d.append(curr_dict)\n",
    "        "
   ]
  },
  {
   "cell_type": "code",
   "execution_count": 36,
   "metadata": {},
   "outputs": [],
   "source": [
    "       \n",
    "with open('ma.json', 'w') as filehandle:  \n",
    "    filehandle.writelines(\"%s\\n\" % json.dumps(line) for line in d)"
   ]
  },
  {
   "cell_type": "code",
   "execution_count": 33,
   "metadata": {},
   "outputs": [
    {
     "name": "stdout",
     "output_type": "stream",
     "text": [
      "!\"#$%&'()*+,-./:;<=>?@[\\]^_`{|}~\n"
     ]
    }
   ],
   "source": [
    "print (string.punctuation)"
   ]
  },
  {
   "cell_type": "code",
   "execution_count": null,
   "metadata": {},
   "outputs": [],
   "source": []
  }
 ],
 "metadata": {
  "kernelspec": {
   "display_name": "Python 3",
   "language": "python",
   "name": "python3"
  },
  "language_info": {
   "codemirror_mode": {
    "name": "ipython",
    "version": 3
   },
   "file_extension": ".py",
   "mimetype": "text/x-python",
   "name": "python",
   "nbconvert_exporter": "python",
   "pygments_lexer": "ipython3",
   "version": "3.7.3"
  }
 },
 "nbformat": 4,
 "nbformat_minor": 2
}
